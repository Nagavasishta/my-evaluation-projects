{
 "cells": [
  {
   "cell_type": "code",
   "execution_count": 256,
   "metadata": {},
   "outputs": [],
   "source": [
    "import pandas as pd\n",
    "import numpy as np\n",
    "import matplotlib.pyplot as plt\n",
    "import seaborn as sns\n",
    "import warnings\n",
    "warnings.filterwarnings('ignore')"
   ]
  },
  {
   "cell_type": "code",
   "execution_count": 257,
   "metadata": {},
   "outputs": [
    {
     "data": {
      "text/html": [
       "<div>\n",
       "<style scoped>\n",
       "    .dataframe tbody tr th:only-of-type {\n",
       "        vertical-align: middle;\n",
       "    }\n",
       "\n",
       "    .dataframe tbody tr th {\n",
       "        vertical-align: top;\n",
       "    }\n",
       "\n",
       "    .dataframe thead th {\n",
       "        text-align: right;\n",
       "    }\n",
       "</style>\n",
       "<table border=\"1\" class=\"dataframe\">\n",
       "  <thead>\n",
       "    <tr style=\"text-align: right;\">\n",
       "      <th></th>\n",
       "      <th>Gender</th>\n",
       "      <th>AgeRange</th>\n",
       "      <th>HeadSize</th>\n",
       "      <th>BrainWeight</th>\n",
       "    </tr>\n",
       "  </thead>\n",
       "  <tbody>\n",
       "    <tr>\n",
       "      <th>0</th>\n",
       "      <td>1</td>\n",
       "      <td>1</td>\n",
       "      <td>4512</td>\n",
       "      <td>1530</td>\n",
       "    </tr>\n",
       "    <tr>\n",
       "      <th>1</th>\n",
       "      <td>1</td>\n",
       "      <td>1</td>\n",
       "      <td>3738</td>\n",
       "      <td>1297</td>\n",
       "    </tr>\n",
       "    <tr>\n",
       "      <th>2</th>\n",
       "      <td>1</td>\n",
       "      <td>1</td>\n",
       "      <td>4261</td>\n",
       "      <td>1335</td>\n",
       "    </tr>\n",
       "    <tr>\n",
       "      <th>3</th>\n",
       "      <td>1</td>\n",
       "      <td>1</td>\n",
       "      <td>3777</td>\n",
       "      <td>1282</td>\n",
       "    </tr>\n",
       "    <tr>\n",
       "      <th>4</th>\n",
       "      <td>1</td>\n",
       "      <td>1</td>\n",
       "      <td>4177</td>\n",
       "      <td>1590</td>\n",
       "    </tr>\n",
       "  </tbody>\n",
       "</table>\n",
       "</div>"
      ],
      "text/plain": [
       "   Gender  AgeRange  HeadSize  BrainWeight\n",
       "0       1         1      4512         1530\n",
       "1       1         1      3738         1297\n",
       "2       1         1      4261         1335\n",
       "3       1         1      3777         1282\n",
       "4       1         1      4177         1590"
      ]
     },
     "execution_count": 257,
     "metadata": {},
     "output_type": "execute_result"
    }
   ],
   "source": [
    "hd=pd.read_csv('headbrain.csv')\n",
    "hd.head()"
   ]
  },
  {
   "cell_type": "code",
   "execution_count": 258,
   "metadata": {},
   "outputs": [
    {
     "data": {
      "text/plain": [
       "(237, 4)"
      ]
     },
     "execution_count": 258,
     "metadata": {},
     "output_type": "execute_result"
    }
   ],
   "source": [
    "hd.shape"
   ]
  },
  {
   "cell_type": "code",
   "execution_count": 259,
   "metadata": {},
   "outputs": [
    {
     "data": {
      "text/plain": [
       "Gender         int64\n",
       "AgeRange       int64\n",
       "HeadSize       int64\n",
       "BrainWeight    int64\n",
       "dtype: object"
      ]
     },
     "execution_count": 259,
     "metadata": {},
     "output_type": "execute_result"
    }
   ],
   "source": [
    "hd.dtypes"
   ]
  },
  {
   "cell_type": "code",
   "execution_count": 260,
   "metadata": {},
   "outputs": [
    {
     "data": {
      "text/plain": [
       "Index(['Gender', 'AgeRange', 'HeadSize', 'BrainWeight'], dtype='object')"
      ]
     },
     "execution_count": 260,
     "metadata": {},
     "output_type": "execute_result"
    }
   ],
   "source": [
    "hd.columns"
   ]
  },
  {
   "cell_type": "code",
   "execution_count": 261,
   "metadata": {},
   "outputs": [
    {
     "name": "stdout",
     "output_type": "stream",
     "text": [
      "<class 'pandas.core.frame.DataFrame'>\n",
      "RangeIndex: 237 entries, 0 to 236\n",
      "Data columns (total 4 columns):\n",
      " #   Column       Non-Null Count  Dtype\n",
      "---  ------       --------------  -----\n",
      " 0   Gender       237 non-null    int64\n",
      " 1   AgeRange     237 non-null    int64\n",
      " 2   HeadSize     237 non-null    int64\n",
      " 3   BrainWeight  237 non-null    int64\n",
      "dtypes: int64(4)\n",
      "memory usage: 7.5 KB\n"
     ]
    }
   ],
   "source": [
    "hd.info()"
   ]
  },
  {
   "cell_type": "code",
   "execution_count": 262,
   "metadata": {},
   "outputs": [
    {
     "data": {
      "text/html": [
       "<div>\n",
       "<style scoped>\n",
       "    .dataframe tbody tr th:only-of-type {\n",
       "        vertical-align: middle;\n",
       "    }\n",
       "\n",
       "    .dataframe tbody tr th {\n",
       "        vertical-align: top;\n",
       "    }\n",
       "\n",
       "    .dataframe thead th {\n",
       "        text-align: right;\n",
       "    }\n",
       "</style>\n",
       "<table border=\"1\" class=\"dataframe\">\n",
       "  <thead>\n",
       "    <tr style=\"text-align: right;\">\n",
       "      <th></th>\n",
       "      <th>Gender</th>\n",
       "      <th>AgeRange</th>\n",
       "      <th>HeadSize</th>\n",
       "      <th>BrainWeight</th>\n",
       "    </tr>\n",
       "  </thead>\n",
       "  <tbody>\n",
       "    <tr>\n",
       "      <th>count</th>\n",
       "      <td>237.000000</td>\n",
       "      <td>237.000000</td>\n",
       "      <td>237.000000</td>\n",
       "      <td>237.000000</td>\n",
       "    </tr>\n",
       "    <tr>\n",
       "      <th>mean</th>\n",
       "      <td>1.434599</td>\n",
       "      <td>1.535865</td>\n",
       "      <td>3633.991561</td>\n",
       "      <td>1282.873418</td>\n",
       "    </tr>\n",
       "    <tr>\n",
       "      <th>std</th>\n",
       "      <td>0.496753</td>\n",
       "      <td>0.499768</td>\n",
       "      <td>365.261422</td>\n",
       "      <td>120.340446</td>\n",
       "    </tr>\n",
       "    <tr>\n",
       "      <th>min</th>\n",
       "      <td>1.000000</td>\n",
       "      <td>1.000000</td>\n",
       "      <td>2720.000000</td>\n",
       "      <td>955.000000</td>\n",
       "    </tr>\n",
       "    <tr>\n",
       "      <th>25%</th>\n",
       "      <td>1.000000</td>\n",
       "      <td>1.000000</td>\n",
       "      <td>3389.000000</td>\n",
       "      <td>1207.000000</td>\n",
       "    </tr>\n",
       "    <tr>\n",
       "      <th>50%</th>\n",
       "      <td>1.000000</td>\n",
       "      <td>2.000000</td>\n",
       "      <td>3614.000000</td>\n",
       "      <td>1280.000000</td>\n",
       "    </tr>\n",
       "    <tr>\n",
       "      <th>75%</th>\n",
       "      <td>2.000000</td>\n",
       "      <td>2.000000</td>\n",
       "      <td>3876.000000</td>\n",
       "      <td>1350.000000</td>\n",
       "    </tr>\n",
       "    <tr>\n",
       "      <th>max</th>\n",
       "      <td>2.000000</td>\n",
       "      <td>2.000000</td>\n",
       "      <td>4747.000000</td>\n",
       "      <td>1635.000000</td>\n",
       "    </tr>\n",
       "  </tbody>\n",
       "</table>\n",
       "</div>"
      ],
      "text/plain": [
       "           Gender    AgeRange     HeadSize  BrainWeight\n",
       "count  237.000000  237.000000   237.000000   237.000000\n",
       "mean     1.434599    1.535865  3633.991561  1282.873418\n",
       "std      0.496753    0.499768   365.261422   120.340446\n",
       "min      1.000000    1.000000  2720.000000   955.000000\n",
       "25%      1.000000    1.000000  3389.000000  1207.000000\n",
       "50%      1.000000    2.000000  3614.000000  1280.000000\n",
       "75%      2.000000    2.000000  3876.000000  1350.000000\n",
       "max      2.000000    2.000000  4747.000000  1635.000000"
      ]
     },
     "execution_count": 262,
     "metadata": {},
     "output_type": "execute_result"
    }
   ],
   "source": [
    "hd.describe()"
   ]
  },
  {
   "cell_type": "markdown",
   "metadata": {},
   "source": [
    "key observations\n",
    "\n",
    "1 mean is greater than median(50%percentile)\n",
    "2 large difference between 75% percentile and max in headsize,brainweight"
   ]
  },
  {
   "cell_type": "code",
   "execution_count": 263,
   "metadata": {},
   "outputs": [
    {
     "data": {
      "text/plain": [
       "array([1530, 1297, 1335, 1282, 1590, 1300, 1400, 1255, 1355, 1375, 1340,\n",
       "       1380, 1522, 1208, 1405, 1358, 1292, 1357, 1287, 1275, 1270, 1635,\n",
       "       1505, 1490, 1485, 1310, 1420, 1318, 1432, 1364, 1207, 1350, 1236,\n",
       "       1250, 1320, 1525, 1570, 1422, 1506, 1215, 1311, 1224, 1390, 1225,\n",
       "       1560, 1330, 1222, 1415, 1175, 1470, 1135, 1154, 1510, 1468, 1240,\n",
       "       1195, 1188, 1252, 1315, 1245, 1430, 1279, 1309, 1412, 1120, 1220,\n",
       "       1280, 1440, 1370, 1192, 1230, 1346, 1290, 1165, 1132, 1242, 1218,\n",
       "       1588, 1260, 1425, 1226, 1360, 1620, 1295, 1362, 1173, 1256, 1180,\n",
       "       1306, 1125, 1312, 1450, 1027, 1235, 1080, 1127, 1200, 1334, 1140,\n",
       "       1243, 1168, 1322, 1249, 1321, 1373, 1170, 1265, 1302, 1241, 1078,\n",
       "       1520, 1460, 1075, 1190, 1374, 1202, 1316, 1210, 1324, 1100, 1160,\n",
       "       1205, 1163, 1022, 1237, 1204, 1090, 1076, 1095, 1105, 1150, 1305,\n",
       "       1296,  955, 1070, 1060, 1130, 1178, 1142, 1185, 1012, 1103, 1408,\n",
       "       1246, 1110, 1104], dtype=int64)"
      ]
     },
     "execution_count": 263,
     "metadata": {},
     "output_type": "execute_result"
    }
   ],
   "source": [
    "hd.BrainWeight.unique()"
   ]
  },
  {
   "cell_type": "code",
   "execution_count": 264,
   "metadata": {},
   "outputs": [
    {
     "data": {
      "text/plain": [
       "1350    8\n",
       "1250    6\n",
       "1290    6\n",
       "1280    5\n",
       "1270    5\n",
       "       ..\n",
       "1190    1\n",
       "1450    1\n",
       "1195    1\n",
       "1200    1\n",
       "1150    1\n",
       "Name: BrainWeight, Length: 146, dtype: int64"
      ]
     },
     "execution_count": 264,
     "metadata": {},
     "output_type": "execute_result"
    }
   ],
   "source": [
    "hd.BrainWeight.value_counts()"
   ]
  },
  {
   "cell_type": "code",
   "execution_count": 265,
   "metadata": {},
   "outputs": [
    {
     "data": {
      "text/plain": [
       "<matplotlib.axes._subplots.AxesSubplot at 0x1e0f5551b88>"
      ]
     },
     "execution_count": 265,
     "metadata": {},
     "output_type": "execute_result"
    },
    {
     "data": {
      "image/png": "[encoded data removed]",
      "text/plain": [
       "<Figure size 432x288 with 2 Axes>"
      ]
     },
     "metadata": {
      "needs_background": "light"
     },
     "output_type": "display_data"
    }
   ],
   "source": [
    "#checking missing values\n",
    "\n",
    "sns.heatmap(hd.isnull())"
   ]
  },
  {
   "cell_type": "code",
   "execution_count": 266,
   "metadata": {},
   "outputs": [
    {
     "data": {
      "text/html": [
       "<div>\n",
       "<style scoped>\n",
       "    .dataframe tbody tr th:only-of-type {\n",
       "        vertical-align: middle;\n",
       "    }\n",
       "\n",
       "    .dataframe tbody tr th {\n",
       "        vertical-align: top;\n",
       "    }\n",
       "\n",
       "    .dataframe thead th {\n",
       "        text-align: right;\n",
       "    }\n",
       "</style>\n",
       "<table border=\"1\" class=\"dataframe\">\n",
       "  <thead>\n",
       "    <tr style=\"text-align: right;\">\n",
       "      <th></th>\n",
       "      <th>Gender</th>\n",
       "      <th>AgeRange</th>\n",
       "      <th>HeadSize</th>\n",
       "      <th>BrainWeight</th>\n",
       "    </tr>\n",
       "  </thead>\n",
       "  <tbody>\n",
       "    <tr>\n",
       "      <th>Gender</th>\n",
       "      <td>1.000000</td>\n",
       "      <td>-0.088652</td>\n",
       "      <td>-0.514050</td>\n",
       "      <td>-0.465266</td>\n",
       "    </tr>\n",
       "    <tr>\n",
       "      <th>AgeRange</th>\n",
       "      <td>-0.088652</td>\n",
       "      <td>1.000000</td>\n",
       "      <td>-0.105428</td>\n",
       "      <td>-0.169438</td>\n",
       "    </tr>\n",
       "    <tr>\n",
       "      <th>HeadSize</th>\n",
       "      <td>-0.514050</td>\n",
       "      <td>-0.105428</td>\n",
       "      <td>1.000000</td>\n",
       "      <td>0.799570</td>\n",
       "    </tr>\n",
       "    <tr>\n",
       "      <th>BrainWeight</th>\n",
       "      <td>-0.465266</td>\n",
       "      <td>-0.169438</td>\n",
       "      <td>0.799570</td>\n",
       "      <td>1.000000</td>\n",
       "    </tr>\n",
       "  </tbody>\n",
       "</table>\n",
       "</div>"
      ],
      "text/plain": [
       "               Gender  AgeRange  HeadSize  BrainWeight\n",
       "Gender       1.000000 -0.088652 -0.514050    -0.465266\n",
       "AgeRange    -0.088652  1.000000 -0.105428    -0.169438\n",
       "HeadSize    -0.514050 -0.105428  1.000000     0.799570\n",
       "BrainWeight -0.465266 -0.169438  0.799570     1.000000"
      ]
     },
     "execution_count": 266,
     "metadata": {},
     "output_type": "execute_result"
    }
   ],
   "source": [
    "hdcor=hd.corr()\n",
    "hdcor"
   ]
  },
  {
   "cell_type": "code",
   "execution_count": 267,
   "metadata": {},
   "outputs": [
    {
     "data": {
      "text/plain": [
       "<matplotlib.axes._subplots.AxesSubplot at 0x1e0f72ba1c8>"
      ]
     },
     "execution_count": 267,
     "metadata": {},
     "output_type": "execute_result"
    },
    {
     "data": {
      "image/png": "[encoded data removed]",
      "text/plain": [
       "<Figure size 432x288 with 2 Axes>"
      ]
     },
     "metadata": {
      "needs_background": "light"
     },
     "output_type": "display_data"
    }
   ],
   "source": [
    "sns.heatmap(hdcor)"
   ]
  },
  {
   "cell_type": "code",
   "execution_count": 268,
   "metadata": {},
   "outputs": [],
   "source": [
    "sns.color_palette?"
   ]
  },
  {
   "cell_type": "code",
   "execution_count": 269,
   "metadata": {},
   "outputs": [],
   "source": [
    "sns.heatmap?"
   ]
  },
  {
   "cell_type": "code",
   "execution_count": 270,
   "metadata": {},
   "outputs": [
    {
     "data": {
      "text/plain": [
       "<matplotlib.axes._subplots.AxesSubplot at 0x1e0f7354648>"
      ]
     },
     "execution_count": 270,
     "metadata": {},
     "output_type": "execute_result"
    },
    {
     "data": {
      "image/png": "[encoded data removed]",
      "text/plain": [
       "<Figure size 576x288 with 2 Axes>"
      ]
     },
     "metadata": {
      "needs_background": "light"
     },
     "output_type": "display_data"
    }
   ],
   "source": [
    "plt.figure(figsize=(8,4))\n",
    "sns.heatmap(hdcor,cmap='Blues',annot=True)"
   ]
  },
  {
   "cell_type": "markdown",
   "metadata": {},
   "source": [
    "light shades are highly correlated as seen in 1 figure\n",
    "headsize and brainweight are highly correlated\n",
    "dark shades are low correlated"
   ]
  },
  {
   "cell_type": "code",
   "execution_count": 271,
   "metadata": {},
   "outputs": [
    {
     "data": {
      "text/plain": [
       "Index(['Gender', 'AgeRange', 'HeadSize', 'BrainWeight'], dtype='object')"
      ]
     },
     "execution_count": 271,
     "metadata": {},
     "output_type": "execute_result"
    }
   ],
   "source": [
    "hd.columns"
   ]
  },
  {
   "cell_type": "code",
   "execution_count": 272,
   "metadata": {},
   "outputs": [
    {
     "data": {
      "text/plain": [
       "<matplotlib.axes._subplots.AxesSubplot at 0x1e0f7358cc8>"
      ]
     },
     "execution_count": 272,
     "metadata": {},
     "output_type": "execute_result"
    },
    {
     "data": {
      "image/png": "[encoded data removed]",
      "text/plain": [
       "<Figure size 432x288 with 1 Axes>"
      ]
     },
     "metadata": {
      "needs_background": "light"
     },
     "output_type": "display_data"
    }
   ],
   "source": [
    "hd['HeadSize'].plot.box()"
   ]
  },
  {
   "cell_type": "code",
   "execution_count": 273,
   "metadata": {},
   "outputs": [
    {
     "data": {
      "text/plain": [
       "<matplotlib.axes._subplots.AxesSubplot at 0x1e0f748c9c8>"
      ]
     },
     "execution_count": 273,
     "metadata": {},
     "output_type": "execute_result"
    },
    {
     "data": {
      "image/png": "[encoded data removed]",
      "text/plain": [
       "<Figure size 432x288 with 1 Axes>"
      ]
     },
     "metadata": {
      "needs_background": "light"
     },
     "output_type": "display_data"
    }
   ],
   "source": [
    "hd['BrainWeight'].plot.box()"
   ]
  },
  {
   "cell_type": "code",
   "execution_count": 274,
   "metadata": {},
   "outputs": [
    {
     "data": {
      "text/plain": [
       "(237, 4)"
      ]
     },
     "execution_count": 274,
     "metadata": {},
     "output_type": "execute_result"
    }
   ],
   "source": [
    "hd.shape"
   ]
  },
  {
   "cell_type": "code",
   "execution_count": 275,
   "metadata": {},
   "outputs": [],
   "source": [
    "collist=hd.columns.values\n",
    "ncol=5\n",
    "nrows=5"
   ]
  },
  {
   "cell_type": "code",
   "execution_count": 276,
   "metadata": {},
   "outputs": [],
   "source": [
    "plt.subplot?"
   ]
  },
  {
   "cell_type": "code",
   "execution_count": 277,
   "metadata": {},
   "outputs": [
    {
     "data": {
      "image/png": "[encoded data removed]",
      "text/plain": [
       "<Figure size 360x1800 with 3 Axes>"
      ]
     },
     "metadata": {
      "needs_background": "light"
     },
     "output_type": "display_data"
    }
   ],
   "source": [
    "plt.figure(figsize=(ncol,5*ncol))\n",
    "for i in range(1,len(collist)):\n",
    "    plt.subplot(nrows,ncol,i+1)\n",
    "    sns.boxplot(hd[collist[i]],color='green',orient='v')\n",
    "    plt.tight_layout()"
   ]
  },
  {
   "cell_type": "code",
   "execution_count": 278,
   "metadata": {},
   "outputs": [
    {
     "data": {
      "text/plain": [
       "<Figure size 1152x1152 with 0 Axes>"
      ]
     },
     "execution_count": 278,
     "metadata": {},
     "output_type": "execute_result"
    },
    {
     "data": {
      "image/png": "[encoded data removed]",
      "text/plain": [
       "<Figure size 432x288 with 1 Axes>"
      ]
     },
     "metadata": {
      "needs_background": "light"
     },
     "output_type": "display_data"
    },
    {
     "data": {
      "text/plain": [
       "<Figure size 1152x1152 with 0 Axes>"
      ]
     },
     "metadata": {},
     "output_type": "display_data"
    }
   ],
   "source": [
    "sns.distplot(hd['AgeRange'])\n",
    "plt.figure(figsize=(16,16))"
   ]
  },
  {
   "cell_type": "code",
   "execution_count": 279,
   "metadata": {},
   "outputs": [
    {
     "data": {
      "text/plain": [
       "<Figure size 1152x1152 with 0 Axes>"
      ]
     },
     "execution_count": 279,
     "metadata": {},
     "output_type": "execute_result"
    },
    {
     "data": {
      "image/png": "[encoded data removed]",
      "text/plain": [
       "<Figure size 432x288 with 1 Axes>"
      ]
     },
     "metadata": {
      "needs_background": "light"
     },
     "output_type": "display_data"
    },
    {
     "data": {
      "text/plain": [
       "<Figure size 1152x1152 with 0 Axes>"
      ]
     },
     "metadata": {},
     "output_type": "display_data"
    }
   ],
   "source": [
    "sns.distplot(hd['HeadSize'])\n",
    "plt.figure(figsize=(16,16))"
   ]
  },
  {
   "cell_type": "code",
   "execution_count": 280,
   "metadata": {},
   "outputs": [
    {
     "data": {
      "text/plain": [
       "<Figure size 1152x1152 with 0 Axes>"
      ]
     },
     "execution_count": 280,
     "metadata": {},
     "output_type": "execute_result"
    },
    {
     "data": {
      "image/png": "[encoded data removed]",
      "text/plain": [
       "<Figure size 432x288 with 1 Axes>"
      ]
     },
     "metadata": {
      "needs_background": "light"
     },
     "output_type": "display_data"
    },
    {
     "data": {
      "text/plain": [
       "<Figure size 1152x1152 with 0 Axes>"
      ]
     },
     "metadata": {},
     "output_type": "display_data"
    }
   ],
   "source": [
    "sns.distplot(hd['BrainWeight'])\n",
    "plt.figure(figsize=(16,16))"
   ]
  },
  {
   "cell_type": "code",
   "execution_count": 281,
   "metadata": {},
   "outputs": [],
   "source": [
    "for i in range(nrows,ncol,i+1):\n",
    "    sns.distplot(hd[collist[i]])"
   ]
  },
  {
   "cell_type": "code",
   "execution_count": 282,
   "metadata": {},
   "outputs": [
    {
     "data": {
      "text/plain": [
       "<matplotlib.collections.PathCollection at 0x1e0f7836b88>"
      ]
     },
     "execution_count": 282,
     "metadata": {},
     "output_type": "execute_result"
    },
    {
     "data": {
      "image/png": "[encoded data removed]",
      "text/plain": [
       "<Figure size 432x288 with 1 Axes>"
      ]
     },
     "metadata": {
      "needs_background": "light"
     },
     "output_type": "display_data"
    }
   ],
   "source": [
    "plt.scatter(hd['HeadSize'],hd['BrainWeight'])"
   ]
  },
  {
   "cell_type": "code",
   "execution_count": 283,
   "metadata": {},
   "outputs": [
    {
     "data": {
      "text/plain": [
       "<matplotlib.collections.PathCollection at 0x1e0f75f6c08>"
      ]
     },
     "execution_count": 283,
     "metadata": {},
     "output_type": "execute_result"
    },
    {
     "data": {
      "image/png": "[encoded data removed]",
      "text/plain": [
       "<Figure size 432x288 with 1 Axes>"
      ]
     },
     "metadata": {
      "needs_background": "light"
     },
     "output_type": "display_data"
    }
   ],
   "source": [
    "plt.scatter(hd['BrainWeight'],hd['AgeRange'])"
   ]
  },
  {
   "cell_type": "code",
   "execution_count": 284,
   "metadata": {},
   "outputs": [
    {
     "data": {
      "text/plain": [
       "<seaborn.axisgrid.PairGrid at 0x1e0f7637208>"
      ]
     },
     "execution_count": 284,
     "metadata": {},
     "output_type": "execute_result"
    },
    {
     "data": {
      "image/png": "[encoded data removed]",
      "text/plain": [
       "<Figure size 720x720 with 20 Axes>"
      ]
     },
     "metadata": {
      "needs_background": "light"
     },
     "output_type": "display_data"
    }
   ],
   "source": [
    "sns.pairplot(hd)"
   ]
  },
  {
   "cell_type": "code",
   "execution_count": 285,
   "metadata": {},
   "outputs": [
    {
     "data": {
      "text/plain": [
       "array([[0.8767307 , 1.07449777, 2.40886829, 2.0579083 ],\n",
       "       [0.8767307 , 1.07449777, 0.28535333, 0.11763692],\n",
       "       [0.8767307 , 1.07449777, 1.72023489, 0.43407603],\n",
       "       [0.8767307 , 1.07449777, 0.39235214, 0.00727325],\n",
       "       [0.8767307 , 1.07449777, 1.4897759 , 2.557549  ],\n",
       "       [0.8767307 , 1.07449777, 0.13441126, 0.14261896],\n",
       "       [0.8767307 , 1.07449777, 0.41430062, 0.97535345],\n",
       "       [0.8767307 , 1.07449777, 0.2057438 , 0.23211156],\n",
       "       [0.8767307 , 1.07449777, 0.05759159, 0.60062293],\n",
       "       [0.8767307 , 1.07449777, 0.95478182, 0.76716983],\n",
       "       [0.8767307 , 1.07449777, 0.52399669, 0.47571276],\n",
       "       [0.8767307 , 1.07449777, 0.98496097, 0.80880656],\n",
       "       [0.8767307 , 1.07449777, 0.01648451, 0.60062293],\n",
       "       [0.8767307 , 1.07449777, 1.57482624, 1.99128954],\n",
       "       [0.8767307 , 1.07449777, 0.54324791, 0.62349678],\n",
       "       [0.8767307 , 1.07449777, 0.66396452, 1.01699018],\n",
       "       [0.8767307 , 1.07449777, 0.37584448, 0.62560497],\n",
       "       [0.8767307 , 1.07449777, 0.46089482, 0.0760002 ],\n",
       "       [0.8767307 , 1.07449777, 1.47875536, 0.47571276],\n",
       "       [0.8767307 , 1.07449777, 2.16743507, 0.97535345],\n",
       "       [0.8767307 , 1.07449777, 0.66945164, 0.61727762],\n",
       "       [0.8767307 , 1.07449777, 1.13036962, 0.03436347],\n",
       "       [0.8767307 , 1.07449777, 0.46642825, 0.06556467],\n",
       "       [0.8767307 , 1.07449777, 0.20853367, 0.10720139],\n",
       "       [0.8767307 , 1.07449777, 3.05360475, 2.93227952],\n",
       "       [0.8767307 , 1.07449777, 2.16469151, 1.84972468],\n",
       "       [0.8767307 , 1.07449777, 1.10293403, 1.7248145 ],\n",
       "       [0.8767307 , 1.07449777, 1.06452419, 1.68317778],\n",
       "       [0.8767307 , 1.07449777, 0.49381754, 0.22589241],\n",
       "       [0.8767307 , 1.07449777, 1.48428878, 1.14190035],\n",
       "       [0.8767307 , 1.07449777, 0.41978774, 0.29251117],\n",
       "       [0.8767307 , 1.07449777, 0.44447977, 1.24182849],\n",
       "       [0.8767307 , 1.07449777, 1.28675251, 0.67556904],\n",
       "       [0.8767307 , 1.07449777, 1.44587895, 1.01699018],\n",
       "       [0.8767307 , 1.07449777, 1.43764827, 1.24182849],\n",
       "       [0.8767307 , 1.07449777, 0.49386384, 0.63182412],\n",
       "       [0.8767307 , 1.07449777, 0.2935377 , 0.76716983],\n",
       "       [0.8767307 , 1.07449777, 0.31278892, 0.55898621],\n",
       "       [0.8767307 , 1.07449777, 0.82304466, 0.39033112],\n",
       "       [0.8767307 , 1.07449777, 0.38956228, 0.27374829],\n",
       "       [0.8767307 , 1.07449777, 0.89991063, 0.55898621],\n",
       "       [0.8767307 , 1.07449777, 0.35389601, 0.30916586],\n",
       "       [0.8767307 , 1.07449777, 1.8683871 , 2.01627157],\n",
       "       [0.8767307 , 1.07449777, 0.46642825, 2.3910021 ],\n",
       "       [0.8767307 , 1.07449777, 0.62829825, 0.47571276],\n",
       "       [0.8767307 , 1.07449777, 1.09744691, 1.15855504],\n",
       "       [0.8767307 , 1.07449777, 1.84918218, 1.85805202],\n",
       "       [0.8767307 , 1.07449777, 1.2867062 , 0.56520536],\n",
       "       [0.8767307 , 1.07449777, 0.01922807, 0.23421975],\n",
       "       [0.8767307 , 1.07449777, 0.02745875, 0.14261896],\n",
       "       [0.8767307 , 1.07449777, 0.70511792, 0.49025926],\n",
       "       [0.8767307 , 1.07449777, 0.4362491 , 0.55898621],\n",
       "       [0.8767307 , 1.07449777, 1.74492692, 0.43407603],\n",
       "       [0.8767307 , 1.07449777, 1.17701013, 0.89208   ],\n",
       "       [0.8767307 , 1.07449777, 1.0370886 , 0.97535345],\n",
       "       [0.8767307 , 1.07449777, 0.4828433 , 0.48193191],\n",
       "       [0.8767307 , 1.07449777, 0.70237436, 0.22589241],\n",
       "       [0.8767307 , 0.93066736, 1.45959675, 2.30772865],\n",
       "       [0.8767307 , 0.93066736, 0.82583453, 0.39243931],\n",
       "       [0.8767307 , 0.93066736, 0.09604773, 0.50691395],\n",
       "       [0.8767307 , 0.93066736, 0.63652893, 1.10026363],\n",
       "       [0.8767307 , 0.93066736, 0.66117466, 0.89829916],\n",
       "       [0.8767307 , 0.93066736, 2.21681914, 0.39243931],\n",
       "       [0.8767307 , 0.93066736, 1.69828641, 1.68317778],\n",
       "       [0.8767307 , 0.93066736, 0.25517418, 1.5582676 ],\n",
       "       [0.8767307 , 0.93066736, 0.83676246, 1.23139296],\n",
       "       [0.8767307 , 0.93066736, 0.60081635, 0.22589241],\n",
       "       [0.8767307 , 0.93066736, 0.71878941, 1.07317341],\n",
       "       [0.8767307 , 0.93066736, 2.18389643, 1.8913614 ],\n",
       "       [0.8767307 , 0.93066736, 2.04946202, 1.10026363],\n",
       "       [0.8767307 , 0.93066736, 1.02611436, 1.54161291],\n",
       "       [0.8767307 , 0.93066736, 0.61458046, 0.89208   ],\n",
       "       [0.8767307 , 0.93066736, 1.33613657, 0.80880656],\n",
       "       [0.8767307 , 0.93066736, 1.16054877, 1.24182849],\n",
       "       [0.8767307 , 0.93066736, 0.52129944, 0.35702174],\n",
       "       [0.8767307 , 0.93066736, 0.6584311 , 0.73175226],\n",
       "       [0.8767307 , 0.93066736, 0.20848736, 0.48193191],\n",
       "       [0.8767307 , 0.93066736, 0.746225  , 0.79004368],\n",
       "       [0.8767307 , 0.93066736, 0.81211673, 0.2570936 ],\n",
       "       [0.8767307 , 0.93066736, 0.55147859, 0.26752913],\n",
       "       [0.8767307 , 0.93066736, 0.53776079, 0.31538501],\n",
       "       [0.8767307 , 0.93066736, 0.60909334, 1.2251738 ],\n",
       "       [0.8767307 , 0.93066736, 1.05624721, 0.03225529],\n",
       "       [0.8767307 , 0.93066736, 0.15635973, 0.31538501],\n",
       "       [0.8767307 , 0.93066736, 0.82034741, 0.21756506],\n",
       "       [0.8767307 , 0.93066736, 0.59263198, 1.07528159],\n",
       "       [0.8767307 , 0.93066736, 0.89163365, 1.35630313],\n",
       "       [0.8767307 , 0.93066736, 0.62550839, 0.52356864],\n",
       "       [0.8767307 , 0.93066736, 0.35115245, 0.02392794],\n",
       "       [0.8767307 , 0.93066736, 0.74901487, 1.30844725],\n",
       "       [0.8767307 , 0.93066736, 1.44313539, 0.72553311],\n",
       "       [0.8767307 , 0.93066736, 0.86694161, 0.7567343 ],\n",
       "       [0.8767307 , 0.93066736, 0.07684282, 0.44029519],\n",
       "       [0.8767307 , 0.93066736, 0.72706639, 0.52567683],\n",
       "       [0.8767307 , 0.93066736, 0.18109807, 0.05934551],\n",
       "       [0.8767307 , 0.93066736, 0.39783926, 0.98157261],\n",
       "       [0.8767307 , 0.93066736, 0.44168991, 0.35702174],\n",
       "       [0.8767307 , 0.93066736, 0.3950494 , 1.25637499],\n",
       "       [0.8767307 , 0.93066736, 0.05489434, 0.34036705],\n",
       "       [0.8767307 , 0.93066736, 0.42797211, 0.10720139],\n",
       "       [0.8767307 , 0.93066736, 0.3813316 , 0.54022333],\n",
       "       [0.8767307 , 0.93066736, 0.54873503, 1.2251738 ],\n",
       "       [0.8767307 , 0.93066736, 0.66396452, 2.54089431],\n",
       "       [0.8767307 , 0.93066736, 0.07409926, 0.30916586],\n",
       "       [0.8767307 , 0.93066736, 0.0438738 , 0.05934551],\n",
       "       [0.8767307 , 0.93066736, 0.03843298, 0.19047484],\n",
       "       [0.8767307 , 0.93066736, 1.09195979, 1.18353708],\n",
       "       [0.8767307 , 0.93066736, 0.6447133 , 0.47360457],\n",
       "       [0.8767307 , 0.93066736, 0.7737069 , 0.64225966],\n",
       "       [0.8767307 , 0.93066736, 2.18389643, 2.80736935],\n",
       "       [0.8767307 , 0.93066736, 0.16738028, 0.22589241],\n",
       "       [0.8767307 , 0.93066736, 0.30176838, 0.27374829],\n",
       "       [0.8767307 , 0.93066736, 0.17282109, 0.10098223],\n",
       "       [0.8767307 , 0.93066736, 0.10971922, 0.05934551],\n",
       "       [0.8767307 , 0.93066736, 0.68861025, 0.05934551],\n",
       "       [0.8767307 , 0.93066736, 0.37035736, 0.06556467],\n",
       "       [0.8767307 , 0.93066736, 0.12343702, 0.27374829],\n",
       "       [0.8767307 , 0.93066736, 0.72980995, 0.10720139],\n",
       "       [0.8767307 , 0.93066736, 1.31693166, 0.65891435],\n",
       "       [0.8767307 , 0.93066736, 0.83132165, 0.14261896],\n",
       "       [0.8767307 , 0.93066736, 0.6447133 , 0.91495385],\n",
       "       [0.8767307 , 0.93066736, 1.55287777, 0.22378422],\n",
       "       [0.8767307 , 0.93066736, 2.34302287, 1.30844725],\n",
       "       [0.8767307 , 0.93066736, 0.05484804, 0.85666244],\n",
       "       [0.8767307 , 0.93066736, 1.14408742, 0.19258303],\n",
       "       [0.8767307 , 0.93066736, 0.40606994, 0.55898621],\n",
       "       [0.8767307 , 0.93066736, 0.66666178, 1.31466641],\n",
       "       [0.8767307 , 0.93066736, 1.39919214, 0.98157261],\n",
       "       [0.8767307 , 0.93066736, 1.14957454, 0.2425471 ],\n",
       "       [0.8767307 , 0.93066736, 0.14264194, 0.14261896],\n",
       "       [0.8767307 , 0.93066736, 0.08781705, 0.10720139],\n",
       "       [0.8767307 , 0.93066736, 0.27981991, 0.43407603],\n",
       "       [0.8767307 , 0.93066736, 1.13036962, 1.3917207 ],\n",
       "       [0.8767307 , 0.93066736, 0.09056061, 0.22589241],\n",
       "       [1.1406011 , 1.07449777, 2.13172249, 2.13074621],\n",
       "       [1.1406011 , 1.07449777, 0.54320161, 0.39865846],\n",
       "       [1.1406011 , 1.07449777, 0.43076198, 0.19047484],\n",
       "       [1.1406011 , 1.07449777, 0.91083856, 0.98157261],\n",
       "       [1.1406011 , 1.07449777, 1.45406332, 1.68939693],\n",
       "       [1.1406011 , 1.07449777, 1.27024484, 1.29801172],\n",
       "       [1.1406011 , 1.07449777, 0.17007753, 0.10720139],\n",
       "       [1.1406011 , 1.07449777, 0.28530702, 0.2570936 ],\n",
       "       [1.1406011 , 1.07449777, 1.25927061, 0.69011554],\n",
       "       [1.1406011 , 1.07449777, 0.53771449, 0.05934551],\n",
       "       [1.1406011 , 1.07449777, 0.73804063, 0.42574869],\n",
       "       [1.1406011 , 1.07449777, 0.72706639, 0.80880656],\n",
       "       [1.1406011 , 1.07449777, 0.63922618, 1.18975623],\n",
       "       [1.1406011 , 1.07449777, 1.00686314, 0.3320397 ],\n",
       "       [1.1406011 , 1.07449777, 0.50204822, 0.47571276],\n",
       "       [1.1406011 , 1.07449777, 1.49247315, 0.95659058],\n",
       "       [1.1406011 , 1.07449777, 0.60630347, 0.32582055],\n",
       "       [1.1406011 , 1.07449777, 0.85322382, 0.28207563],\n",
       "       [1.1406011 , 1.07449777, 0.12622688, 0.3174932 ],\n",
       "       [1.1406011 , 1.07449777, 0.53497093, 0.7567343 ],\n",
       "       [1.1406011 , 1.07449777, 0.60086266, 0.75051514],\n",
       "       [1.1406011 , 1.07449777, 1.31139823, 0.93993589],\n",
       "       [1.1406011 , 1.07449777, 0.97394043, 0.14883811],\n",
       "       [1.1406011 , 1.07449777, 0.20030299, 0.39865846],\n",
       "       [1.1406011 , 1.07449777, 1.02062724, 0.15927365],\n",
       "       [1.1406011 , 1.07449777, 1.00137602, 0.34869439],\n",
       "       [1.1406011 , 1.07449777, 1.54460078, 1.70605162],\n",
       "       [1.1406011 , 1.07449777, 0.39783926, 1.97463485],\n",
       "       [1.1406011 , 1.07449777, 0.23592295, 1.47499415],\n",
       "       [1.1406011 , 1.07449777, 0.93827416, 1.73103366],\n",
       "       [1.1406011 , 1.07449777, 0.37584448, 0.02392794],\n",
       "       [1.1406011 , 1.07449777, 1.51442163, 0.85666244],\n",
       "       [1.1406011 , 1.07449777, 1.05899077, 0.27374829],\n",
       "       [1.1406011 , 1.07449777, 0.75719924, 0.77338899],\n",
       "       [1.1406011 , 1.07449777, 0.46368469, 0.75884249],\n",
       "       [1.1406011 , 1.07449777, 0.18653889, 0.19258303],\n",
       "       [1.1406011 , 1.07449777, 1.34157739, 0.67346085],\n",
       "       [1.1406011 , 1.07449777, 0.35938313, 0.35702174],\n",
       "       [1.1406011 , 1.07449777, 0.17282109, 0.27585648],\n",
       "       [1.1406011 , 1.07449777, 0.2469435 , 0.02392794],\n",
       "       [1.1406011 , 1.07449777, 0.05210448, 0.55898621],\n",
       "       [1.1406011 , 1.07449777, 1.18245094, 0.85666244],\n",
       "       [1.1406011 , 1.07449777, 0.06856583, 0.60684209],\n",
       "       [1.1406011 , 1.07449777, 0.20025668, 1.29801172],\n",
       "       [1.1406011 , 1.07449777, 0.94655114, 0.34247524],\n",
       "       [1.1406011 , 1.07449777, 0.27707635, 0.60684209],\n",
       "       [1.1406011 , 1.07449777, 0.15091892, 0.05934551],\n",
       "       [1.1406011 , 1.07449777, 1.30591112, 1.52285003],\n",
       "       [1.1406011 , 1.07449777, 1.01788369, 0.02392794],\n",
       "       [1.1406011 , 1.07449777, 1.24280925, 0.89829916],\n",
       "       [1.1406011 , 1.07449777, 0.42522855, 1.02320934],\n",
       "       [1.1406011 , 1.07449777, 0.02197163, 0.64847881],\n",
       "       [1.1406011 , 1.07449777, 0.00546397, 0.9982273 ],\n",
       "       [1.1406011 , 0.93066736, 1.5500879 , 2.17238294],\n",
       "       [1.1406011 , 0.93066736, 0.6584311 , 0.3320397 ],\n",
       "       [1.1406011 , 0.93066736, 0.18932875, 0.55898621],\n",
       "       [1.1406011 , 0.93066736, 1.2867062 , 0.38200377],\n",
       "       [1.1406011 , 0.93066736, 0.76817348, 0.65680616],\n",
       "       [1.1406011 , 0.93066736, 1.7393935 , 1.60612348],\n",
       "       [1.1406011 , 0.93066736, 0.1454318 , 0.60062293],\n",
       "       [1.1406011 , 0.93066736, 0.21397448, 0.27374829],\n",
       "       [1.1406011 , 0.93066736, 2.36218148, 1.72270631],\n",
       "       [1.1406011 , 0.93066736, 1.58026705, 1.35630313],\n",
       "       [1.1406011 , 0.93066736, 0.79560907, 0.52356864],\n",
       "       [1.1406011 , 0.93066736, 0.38681872, 0.35702174],\n",
       "       [1.1406011 , 0.93066736, 0.92455636, 0.52356864],\n",
       "       [1.1406011 , 0.93066736, 0.75171212, 1.56448676],\n",
       "       [1.1406011 , 0.93066736, 1.11386196, 0.39865846],\n",
       "       [1.1406011 , 0.93066736, 0.97942755, 1.48121331],\n",
       "       [1.1406011 , 0.93066736, 0.59537554, 1.01699018],\n",
       "       [1.1406011 , 0.93066736, 1.55557502, 1.10648279],\n",
       "       [1.1406011 , 0.93066736, 0.1591496 , 0.18425568],\n",
       "       [1.1406011 , 0.93066736, 0.63648263, 0.52356864],\n",
       "       [1.1406011 , 0.93066736, 0.99044809, 0.10930958],\n",
       "       [1.1406011 , 0.93066736, 0.86694161, 0.89829916],\n",
       "       [1.1406011 , 0.93066736, 2.50759013, 2.73031505],\n",
       "       [1.1406011 , 0.93066736, 1.91223774, 1.77267038],\n",
       "       [1.1406011 , 0.93066736, 0.14812905, 0.30916586],\n",
       "       [1.1406011 , 0.93066736, 1.90675062, 1.85594383],\n",
       "       [1.1406011 , 0.93066736, 1.76957265, 1.27302968],\n",
       "       [1.1406011 , 0.93066736, 0.1316677 , 0.27374829],\n",
       "       [1.1406011 , 0.93066736, 1.31139823, 0.48193191],\n",
       "       [1.1406011 , 0.93066736, 1.06447789, 0.85666244],\n",
       "       [1.1406011 , 0.93066736, 1.2729884 , 0.87331713],\n",
       "       [1.1406011 , 0.93066736, 1.00411958, 1.17310154],\n",
       "       [1.1406011 , 0.93066736, 0.6721489 , 1.27302968],\n",
       "       [1.1406011 , 0.93066736, 0.69409737, 0.81502571],\n",
       "       [1.1406011 , 0.93066736, 2.11251758, 2.25565639],\n",
       "       [1.1406011 , 0.93066736, 0.29084045, 0.02392794],\n",
       "       [1.1406011 , 0.93066736, 0.42522855, 1.497868  ],\n",
       "       [1.1406011 , 0.93066736, 0.03568942, 1.04197221],\n",
       "       [1.1406011 , 0.93066736, 0.22499502, 0.14261896],\n",
       "       [1.1406011 , 0.93066736, 0.96022263, 0.30705767],\n",
       "       [1.1406011 , 0.93066736, 1.563852  , 0.80880656],\n",
       "       [1.1406011 , 0.93066736, 0.27712265, 0.55898621],\n",
       "       [1.1406011 , 0.93066736, 1.14129755, 1.85594383],\n",
       "       [1.1406011 , 0.93066736, 0.13994468, 0.55898621],\n",
       "       [1.1406011 , 0.93066736, 0.19207231, 0.52356864],\n",
       "       [1.1406011 , 0.93066736, 1.15227179, 1.43957658],\n",
       "       [1.1406011 , 0.93066736, 0.6584311 , 0.56520536],\n",
       "       [1.1406011 , 0.93066736, 1.10014416, 1.48954065],\n",
       "       [1.1406011 , 0.93066736, 0.77366059, 0.93993589],\n",
       "       [1.1406011 , 0.93066736, 0.66666178, 1.35630313]])"
      ]
     },
     "execution_count": 285,
     "metadata": {},
     "output_type": "execute_result"
    }
   ],
   "source": [
    "from scipy.stats import zscore\n",
    "z=np.abs(zscore(hd))\n",
    "z"
   ]
  },
  {
   "cell_type": "code",
   "execution_count": 286,
   "metadata": {},
   "outputs": [
    {
     "name": "stdout",
     "output_type": "stream",
     "text": [
      "(array([24], dtype=int64), array([2], dtype=int64))\n"
     ]
    }
   ],
   "source": [
    "Threshold=3\n",
    "print(np.where(z>3))"
   ]
  },
  {
   "cell_type": "code",
   "execution_count": 287,
   "metadata": {},
   "outputs": [
    {
     "data": {
      "text/plain": [
       "2.255656389365663"
      ]
     },
     "execution_count": 287,
     "metadata": {},
     "output_type": "execute_result"
    }
   ],
   "source": [
    "z[221][3]"
   ]
  },
  {
   "cell_type": "code",
   "execution_count": 288,
   "metadata": {},
   "outputs": [
    {
     "data": {
      "text/plain": [
       "1.356303133883265"
      ]
     },
     "execution_count": 288,
     "metadata": {},
     "output_type": "execute_result"
    }
   ],
   "source": [
    "z[236][3]"
   ]
  },
  {
   "cell_type": "code",
   "execution_count": 289,
   "metadata": {},
   "outputs": [],
   "source": [
    "hd_new=hd[(z<3).all (axis=1)]"
   ]
  },
  {
   "cell_type": "code",
   "execution_count": 290,
   "metadata": {},
   "outputs": [
    {
     "data": {
      "text/html": [
       "<div>\n",
       "<style scoped>\n",
       "    .dataframe tbody tr th:only-of-type {\n",
       "        vertical-align: middle;\n",
       "    }\n",
       "\n",
       "    .dataframe tbody tr th {\n",
       "        vertical-align: top;\n",
       "    }\n",
       "\n",
       "    .dataframe thead th {\n",
       "        text-align: right;\n",
       "    }\n",
       "</style>\n",
       "<table border=\"1\" class=\"dataframe\">\n",
       "  <thead>\n",
       "    <tr style=\"text-align: right;\">\n",
       "      <th></th>\n",
       "      <th>Gender</th>\n",
       "      <th>AgeRange</th>\n",
       "      <th>HeadSize</th>\n",
       "      <th>BrainWeight</th>\n",
       "    </tr>\n",
       "  </thead>\n",
       "  <tbody>\n",
       "    <tr>\n",
       "      <th>0</th>\n",
       "      <td>1</td>\n",
       "      <td>1</td>\n",
       "      <td>4512</td>\n",
       "      <td>1530</td>\n",
       "    </tr>\n",
       "    <tr>\n",
       "      <th>1</th>\n",
       "      <td>1</td>\n",
       "      <td>1</td>\n",
       "      <td>3738</td>\n",
       "      <td>1297</td>\n",
       "    </tr>\n",
       "    <tr>\n",
       "      <th>2</th>\n",
       "      <td>1</td>\n",
       "      <td>1</td>\n",
       "      <td>4261</td>\n",
       "      <td>1335</td>\n",
       "    </tr>\n",
       "    <tr>\n",
       "      <th>3</th>\n",
       "      <td>1</td>\n",
       "      <td>1</td>\n",
       "      <td>3777</td>\n",
       "      <td>1282</td>\n",
       "    </tr>\n",
       "    <tr>\n",
       "      <th>4</th>\n",
       "      <td>1</td>\n",
       "      <td>1</td>\n",
       "      <td>4177</td>\n",
       "      <td>1590</td>\n",
       "    </tr>\n",
       "    <tr>\n",
       "      <th>...</th>\n",
       "      <td>...</td>\n",
       "      <td>...</td>\n",
       "      <td>...</td>\n",
       "      <td>...</td>\n",
       "    </tr>\n",
       "    <tr>\n",
       "      <th>232</th>\n",
       "      <td>2</td>\n",
       "      <td>2</td>\n",
       "      <td>3214</td>\n",
       "      <td>1110</td>\n",
       "    </tr>\n",
       "    <tr>\n",
       "      <th>233</th>\n",
       "      <td>2</td>\n",
       "      <td>2</td>\n",
       "      <td>3394</td>\n",
       "      <td>1215</td>\n",
       "    </tr>\n",
       "    <tr>\n",
       "      <th>234</th>\n",
       "      <td>2</td>\n",
       "      <td>2</td>\n",
       "      <td>3233</td>\n",
       "      <td>1104</td>\n",
       "    </tr>\n",
       "    <tr>\n",
       "      <th>235</th>\n",
       "      <td>2</td>\n",
       "      <td>2</td>\n",
       "      <td>3352</td>\n",
       "      <td>1170</td>\n",
       "    </tr>\n",
       "    <tr>\n",
       "      <th>236</th>\n",
       "      <td>2</td>\n",
       "      <td>2</td>\n",
       "      <td>3391</td>\n",
       "      <td>1120</td>\n",
       "    </tr>\n",
       "  </tbody>\n",
       "</table>\n",
       "<p>236 rows × 4 columns</p>\n",
       "</div>"
      ],
      "text/plain": [
       "     Gender  AgeRange  HeadSize  BrainWeight\n",
       "0         1         1      4512         1530\n",
       "1         1         1      3738         1297\n",
       "2         1         1      4261         1335\n",
       "3         1         1      3777         1282\n",
       "4         1         1      4177         1590\n",
       "..      ...       ...       ...          ...\n",
       "232       2         2      3214         1110\n",
       "233       2         2      3394         1215\n",
       "234       2         2      3233         1104\n",
       "235       2         2      3352         1170\n",
       "236       2         2      3391         1120\n",
       "\n",
       "[236 rows x 4 columns]"
      ]
     },
     "execution_count": 290,
     "metadata": {},
     "output_type": "execute_result"
    }
   ],
   "source": [
    "hd_new"
   ]
  },
  {
   "cell_type": "code",
   "execution_count": 291,
   "metadata": {},
   "outputs": [
    {
     "data": {
      "text/plain": [
       "(237, 4)"
      ]
     },
     "execution_count": 291,
     "metadata": {},
     "output_type": "execute_result"
    }
   ],
   "source": [
    "hd.shape"
   ]
  },
  {
   "cell_type": "code",
   "execution_count": 292,
   "metadata": {},
   "outputs": [
    {
     "data": {
      "text/plain": [
       "(236, 4)"
      ]
     },
     "execution_count": 292,
     "metadata": {},
     "output_type": "execute_result"
    }
   ],
   "source": [
    "hd_new.shape"
   ]
  },
  {
   "cell_type": "code",
   "execution_count": 293,
   "metadata": {},
   "outputs": [
    {
     "data": {
      "text/plain": [
       "(236, 4)"
      ]
     },
     "execution_count": 293,
     "metadata": {},
     "output_type": "execute_result"
    }
   ],
   "source": [
    "hd=hd_new\n",
    "hd.shape"
   ]
  },
  {
   "cell_type": "markdown",
   "metadata": {},
   "source": [
    "#19 rows are deleted as outliers"
   ]
  },
  {
   "cell_type": "code",
   "execution_count": 294,
   "metadata": {},
   "outputs": [],
   "source": [
    "import pandas as pd\n",
    "import numpy as np\n",
    "import matplotlib.pyplot as plt\n",
    "import seaborn as sns\n",
    "import sklearn\n",
    "from sklearn.linear_model import LinearRegression\n",
    "from sklearn.metrics import mean_squared_error,mean_absolute_error\n",
    "from sklearn.model_selection import train_test_split"
   ]
  },
  {
   "cell_type": "code",
   "execution_count": 295,
   "metadata": {},
   "outputs": [
    {
     "data": {
      "text/html": [
       "<div>\n",
       "<style scoped>\n",
       "    .dataframe tbody tr th:only-of-type {\n",
       "        vertical-align: middle;\n",
       "    }\n",
       "\n",
       "    .dataframe tbody tr th {\n",
       "        vertical-align: top;\n",
       "    }\n",
       "\n",
       "    .dataframe thead th {\n",
       "        text-align: right;\n",
       "    }\n",
       "</style>\n",
       "<table border=\"1\" class=\"dataframe\">\n",
       "  <thead>\n",
       "    <tr style=\"text-align: right;\">\n",
       "      <th></th>\n",
       "      <th>Gender</th>\n",
       "      <th>AgeRange</th>\n",
       "      <th>HeadSize</th>\n",
       "      <th>BrainWeight</th>\n",
       "    </tr>\n",
       "  </thead>\n",
       "  <tbody>\n",
       "    <tr>\n",
       "      <th>2</th>\n",
       "      <td>1</td>\n",
       "      <td>1</td>\n",
       "      <td>4261</td>\n",
       "      <td>1335</td>\n",
       "    </tr>\n",
       "    <tr>\n",
       "      <th>3</th>\n",
       "      <td>1</td>\n",
       "      <td>1</td>\n",
       "      <td>3777</td>\n",
       "      <td>1282</td>\n",
       "    </tr>\n",
       "    <tr>\n",
       "      <th>4</th>\n",
       "      <td>1</td>\n",
       "      <td>1</td>\n",
       "      <td>4177</td>\n",
       "      <td>1590</td>\n",
       "    </tr>\n",
       "  </tbody>\n",
       "</table>\n",
       "</div>"
      ],
      "text/plain": [
       "   Gender  AgeRange  HeadSize  BrainWeight\n",
       "2       1         1      4261         1335\n",
       "3       1         1      3777         1282\n",
       "4       1         1      4177         1590"
      ]
     },
     "execution_count": 295,
     "metadata": {},
     "output_type": "execute_result"
    }
   ],
   "source": [
    "hd[2:5]"
   ]
  },
  {
   "cell_type": "code",
   "execution_count": 296,
   "metadata": {},
   "outputs": [
    {
     "data": {
      "text/html": [
       "<div>\n",
       "<style scoped>\n",
       "    .dataframe tbody tr th:only-of-type {\n",
       "        vertical-align: middle;\n",
       "    }\n",
       "\n",
       "    .dataframe tbody tr th {\n",
       "        vertical-align: top;\n",
       "    }\n",
       "\n",
       "    .dataframe thead th {\n",
       "        text-align: right;\n",
       "    }\n",
       "</style>\n",
       "<table border=\"1\" class=\"dataframe\">\n",
       "  <thead>\n",
       "    <tr style=\"text-align: right;\">\n",
       "      <th></th>\n",
       "      <th>Gender</th>\n",
       "      <th>AgeRange</th>\n",
       "      <th>HeadSize</th>\n",
       "      <th>BrainWeight</th>\n",
       "    </tr>\n",
       "  </thead>\n",
       "  <tbody>\n",
       "    <tr>\n",
       "      <th>0</th>\n",
       "      <td>1</td>\n",
       "      <td>1</td>\n",
       "      <td>4512</td>\n",
       "      <td>1530</td>\n",
       "    </tr>\n",
       "    <tr>\n",
       "      <th>1</th>\n",
       "      <td>1</td>\n",
       "      <td>1</td>\n",
       "      <td>3738</td>\n",
       "      <td>1297</td>\n",
       "    </tr>\n",
       "    <tr>\n",
       "      <th>2</th>\n",
       "      <td>1</td>\n",
       "      <td>1</td>\n",
       "      <td>4261</td>\n",
       "      <td>1335</td>\n",
       "    </tr>\n",
       "    <tr>\n",
       "      <th>3</th>\n",
       "      <td>1</td>\n",
       "      <td>1</td>\n",
       "      <td>3777</td>\n",
       "      <td>1282</td>\n",
       "    </tr>\n",
       "    <tr>\n",
       "      <th>4</th>\n",
       "      <td>1</td>\n",
       "      <td>1</td>\n",
       "      <td>4177</td>\n",
       "      <td>1590</td>\n",
       "    </tr>\n",
       "    <tr>\n",
       "      <th>...</th>\n",
       "      <td>...</td>\n",
       "      <td>...</td>\n",
       "      <td>...</td>\n",
       "      <td>...</td>\n",
       "    </tr>\n",
       "    <tr>\n",
       "      <th>232</th>\n",
       "      <td>2</td>\n",
       "      <td>2</td>\n",
       "      <td>3214</td>\n",
       "      <td>1110</td>\n",
       "    </tr>\n",
       "    <tr>\n",
       "      <th>233</th>\n",
       "      <td>2</td>\n",
       "      <td>2</td>\n",
       "      <td>3394</td>\n",
       "      <td>1215</td>\n",
       "    </tr>\n",
       "    <tr>\n",
       "      <th>234</th>\n",
       "      <td>2</td>\n",
       "      <td>2</td>\n",
       "      <td>3233</td>\n",
       "      <td>1104</td>\n",
       "    </tr>\n",
       "    <tr>\n",
       "      <th>235</th>\n",
       "      <td>2</td>\n",
       "      <td>2</td>\n",
       "      <td>3352</td>\n",
       "      <td>1170</td>\n",
       "    </tr>\n",
       "    <tr>\n",
       "      <th>236</th>\n",
       "      <td>2</td>\n",
       "      <td>2</td>\n",
       "      <td>3391</td>\n",
       "      <td>1120</td>\n",
       "    </tr>\n",
       "  </tbody>\n",
       "</table>\n",
       "<p>236 rows × 4 columns</p>\n",
       "</div>"
      ],
      "text/plain": [
       "     Gender  AgeRange  HeadSize  BrainWeight\n",
       "0         1         1      4512         1530\n",
       "1         1         1      3738         1297\n",
       "2         1         1      4261         1335\n",
       "3         1         1      3777         1282\n",
       "4         1         1      4177         1590\n",
       "..      ...       ...       ...          ...\n",
       "232       2         2      3214         1110\n",
       "233       2         2      3394         1215\n",
       "234       2         2      3233         1104\n",
       "235       2         2      3352         1170\n",
       "236       2         2      3391         1120\n",
       "\n",
       "[236 rows x 4 columns]"
      ]
     },
     "execution_count": 296,
     "metadata": {},
     "output_type": "execute_result"
    }
   ],
   "source": [
    "hd"
   ]
  },
  {
   "cell_type": "code",
   "execution_count": 297,
   "metadata": {},
   "outputs": [
    {
     "data": {
      "text/html": [
       "<div>\n",
       "<style scoped>\n",
       "    .dataframe tbody tr th:only-of-type {\n",
       "        vertical-align: middle;\n",
       "    }\n",
       "\n",
       "    .dataframe tbody tr th {\n",
       "        vertical-align: top;\n",
       "    }\n",
       "\n",
       "    .dataframe thead th {\n",
       "        text-align: right;\n",
       "    }\n",
       "</style>\n",
       "<table border=\"1\" class=\"dataframe\">\n",
       "  <thead>\n",
       "    <tr style=\"text-align: right;\">\n",
       "      <th></th>\n",
       "      <th>Gender</th>\n",
       "      <th>AgeRange</th>\n",
       "      <th>HeadSize</th>\n",
       "    </tr>\n",
       "  </thead>\n",
       "  <tbody>\n",
       "    <tr>\n",
       "      <th>0</th>\n",
       "      <td>1</td>\n",
       "      <td>1</td>\n",
       "      <td>4512</td>\n",
       "    </tr>\n",
       "    <tr>\n",
       "      <th>1</th>\n",
       "      <td>1</td>\n",
       "      <td>1</td>\n",
       "      <td>3738</td>\n",
       "    </tr>\n",
       "    <tr>\n",
       "      <th>2</th>\n",
       "      <td>1</td>\n",
       "      <td>1</td>\n",
       "      <td>4261</td>\n",
       "    </tr>\n",
       "    <tr>\n",
       "      <th>3</th>\n",
       "      <td>1</td>\n",
       "      <td>1</td>\n",
       "      <td>3777</td>\n",
       "    </tr>\n",
       "    <tr>\n",
       "      <th>4</th>\n",
       "      <td>1</td>\n",
       "      <td>1</td>\n",
       "      <td>4177</td>\n",
       "    </tr>\n",
       "    <tr>\n",
       "      <th>...</th>\n",
       "      <td>...</td>\n",
       "      <td>...</td>\n",
       "      <td>...</td>\n",
       "    </tr>\n",
       "    <tr>\n",
       "      <th>232</th>\n",
       "      <td>2</td>\n",
       "      <td>2</td>\n",
       "      <td>3214</td>\n",
       "    </tr>\n",
       "    <tr>\n",
       "      <th>233</th>\n",
       "      <td>2</td>\n",
       "      <td>2</td>\n",
       "      <td>3394</td>\n",
       "    </tr>\n",
       "    <tr>\n",
       "      <th>234</th>\n",
       "      <td>2</td>\n",
       "      <td>2</td>\n",
       "      <td>3233</td>\n",
       "    </tr>\n",
       "    <tr>\n",
       "      <th>235</th>\n",
       "      <td>2</td>\n",
       "      <td>2</td>\n",
       "      <td>3352</td>\n",
       "    </tr>\n",
       "    <tr>\n",
       "      <th>236</th>\n",
       "      <td>2</td>\n",
       "      <td>2</td>\n",
       "      <td>3391</td>\n",
       "    </tr>\n",
       "  </tbody>\n",
       "</table>\n",
       "<p>236 rows × 3 columns</p>\n",
       "</div>"
      ],
      "text/plain": [
       "     Gender  AgeRange  HeadSize\n",
       "0         1         1      4512\n",
       "1         1         1      3738\n",
       "2         1         1      4261\n",
       "3         1         1      3777\n",
       "4         1         1      4177\n",
       "..      ...       ...       ...\n",
       "232       2         2      3214\n",
       "233       2         2      3394\n",
       "234       2         2      3233\n",
       "235       2         2      3352\n",
       "236       2         2      3391\n",
       "\n",
       "[236 rows x 3 columns]"
      ]
     },
     "execution_count": 297,
     "metadata": {},
     "output_type": "execute_result"
    }
   ],
   "source": [
    "x=hd.iloc[:,0:3]\n",
    "x"
   ]
  },
  {
   "cell_type": "code",
   "execution_count": 298,
   "metadata": {},
   "outputs": [
    {
     "data": {
      "text/plain": [
       "(236, 3)"
      ]
     },
     "execution_count": 298,
     "metadata": {},
     "output_type": "execute_result"
    }
   ],
   "source": [
    "x.shape"
   ]
  },
  {
   "cell_type": "code",
   "execution_count": 304,
   "metadata": {},
   "outputs": [
    {
     "data": {
      "text/plain": [
       "0      1530\n",
       "1      1297\n",
       "2      1335\n",
       "3      1282\n",
       "4      1590\n",
       "       ... \n",
       "232    1110\n",
       "233    1215\n",
       "234    1104\n",
       "235    1170\n",
       "236    1120\n",
       "Name: BrainWeight, Length: 236, dtype: int64"
      ]
     },
     "execution_count": 304,
     "metadata": {},
     "output_type": "execute_result"
    }
   ],
   "source": [
    "y=hd.iloc[:,-1]\n",
    "y"
   ]
  },
  {
   "cell_type": "code",
   "execution_count": 305,
   "metadata": {},
   "outputs": [
    {
     "data": {
      "text/plain": [
       "(236,)"
      ]
     },
     "execution_count": 305,
     "metadata": {},
     "output_type": "execute_result"
    }
   ],
   "source": [
    "y.shape"
   ]
  },
  {
   "cell_type": "code",
   "execution_count": 307,
   "metadata": {},
   "outputs": [
    {
     "data": {
      "text/plain": [
       "(236, 3)"
      ]
     },
     "execution_count": 307,
     "metadata": {},
     "output_type": "execute_result"
    }
   ],
   "source": [
    "x.shape"
   ]
  },
  {
   "cell_type": "code",
   "execution_count": 308,
   "metadata": {},
   "outputs": [
    {
     "data": {
      "text/plain": [
       "(236,)"
      ]
     },
     "execution_count": 308,
     "metadata": {},
     "output_type": "execute_result"
    }
   ],
   "source": [
    "y.shape"
   ]
  },
  {
   "cell_type": "code",
   "execution_count": 314,
   "metadata": {},
   "outputs": [
    {
     "ename": "ValueError",
     "evalue": "x and y must be the same size",
     "output_type": "error",
     "traceback": [
      "\u001b[1;31m---------------------------------------------------------------------------\u001b[0m",
      "\u001b[1;31mValueError\u001b[0m                                Traceback (most recent call last)",
      "\u001b[1;32m<ipython-input-314-1aeba9c8659b>\u001b[0m in \u001b[0;36m<module>\u001b[1;34m\u001b[0m\n\u001b[0;32m      1\u001b[0m \u001b[0mplt\u001b[0m\u001b[1;33m.\u001b[0m\u001b[0mxlabel\u001b[0m\u001b[1;33m(\u001b[0m\u001b[1;34m'Head Size(cm^3)'\u001b[0m\u001b[1;33m)\u001b[0m\u001b[1;33m\u001b[0m\u001b[1;33m\u001b[0m\u001b[0m\n\u001b[0;32m      2\u001b[0m \u001b[0mplt\u001b[0m\u001b[1;33m.\u001b[0m\u001b[0mylabel\u001b[0m\u001b[1;33m(\u001b[0m\u001b[1;34m'Brain Weight(grams)'\u001b[0m\u001b[1;33m)\u001b[0m\u001b[1;33m\u001b[0m\u001b[1;33m\u001b[0m\u001b[0m\n\u001b[1;32m----> 3\u001b[1;33m \u001b[0mplt\u001b[0m\u001b[1;33m.\u001b[0m\u001b[0mscatter\u001b[0m\u001b[1;33m(\u001b[0m\u001b[0mx\u001b[0m\u001b[1;33m,\u001b[0m\u001b[0my\u001b[0m\u001b[1;33m)\u001b[0m\u001b[1;33m\u001b[0m\u001b[1;33m\u001b[0m\u001b[0m\n\u001b[0m",
      "\u001b[1;32mC:\\ProgramData\\Anaconda3\\lib\\site-packages\\matplotlib\\pyplot.py\u001b[0m in \u001b[0;36mscatter\u001b[1;34m(x, y, s, c, marker, cmap, norm, vmin, vmax, alpha, linewidths, verts, edgecolors, plotnonfinite, data, **kwargs)\u001b[0m\n\u001b[0;32m   2846\u001b[0m         \u001b[0mverts\u001b[0m\u001b[1;33m=\u001b[0m\u001b[0mverts\u001b[0m\u001b[1;33m,\u001b[0m \u001b[0medgecolors\u001b[0m\u001b[1;33m=\u001b[0m\u001b[0medgecolors\u001b[0m\u001b[1;33m,\u001b[0m\u001b[1;33m\u001b[0m\u001b[1;33m\u001b[0m\u001b[0m\n\u001b[0;32m   2847\u001b[0m         plotnonfinite=plotnonfinite, **({\"data\": data} if data is not\n\u001b[1;32m-> 2848\u001b[1;33m         None else {}), **kwargs)\n\u001b[0m\u001b[0;32m   2849\u001b[0m     \u001b[0msci\u001b[0m\u001b[1;33m(\u001b[0m\u001b[0m__ret\u001b[0m\u001b[1;33m)\u001b[0m\u001b[1;33m\u001b[0m\u001b[1;33m\u001b[0m\u001b[0m\n\u001b[0;32m   2850\u001b[0m     \u001b[1;32mreturn\u001b[0m \u001b[0m__ret\u001b[0m\u001b[1;33m\u001b[0m\u001b[1;33m\u001b[0m\u001b[0m\n",
      "\u001b[1;32mC:\\ProgramData\\Anaconda3\\lib\\site-packages\\matplotlib\\__init__.py\u001b[0m in \u001b[0;36minner\u001b[1;34m(ax, data, *args, **kwargs)\u001b[0m\n\u001b[0;32m   1597\u001b[0m     \u001b[1;32mdef\u001b[0m \u001b[0minner\u001b[0m\u001b[1;33m(\u001b[0m\u001b[0max\u001b[0m\u001b[1;33m,\u001b[0m \u001b[1;33m*\u001b[0m\u001b[0margs\u001b[0m\u001b[1;33m,\u001b[0m \u001b[0mdata\u001b[0m\u001b[1;33m=\u001b[0m\u001b[1;32mNone\u001b[0m\u001b[1;33m,\u001b[0m \u001b[1;33m**\u001b[0m\u001b[0mkwargs\u001b[0m\u001b[1;33m)\u001b[0m\u001b[1;33m:\u001b[0m\u001b[1;33m\u001b[0m\u001b[1;33m\u001b[0m\u001b[0m\n\u001b[0;32m   1598\u001b[0m         \u001b[1;32mif\u001b[0m \u001b[0mdata\u001b[0m \u001b[1;32mis\u001b[0m \u001b[1;32mNone\u001b[0m\u001b[1;33m:\u001b[0m\u001b[1;33m\u001b[0m\u001b[1;33m\u001b[0m\u001b[0m\n\u001b[1;32m-> 1599\u001b[1;33m             \u001b[1;32mreturn\u001b[0m \u001b[0mfunc\u001b[0m\u001b[1;33m(\u001b[0m\u001b[0max\u001b[0m\u001b[1;33m,\u001b[0m \u001b[1;33m*\u001b[0m\u001b[0mmap\u001b[0m\u001b[1;33m(\u001b[0m\u001b[0msanitize_sequence\u001b[0m\u001b[1;33m,\u001b[0m \u001b[0margs\u001b[0m\u001b[1;33m)\u001b[0m\u001b[1;33m,\u001b[0m \u001b[1;33m**\u001b[0m\u001b[0mkwargs\u001b[0m\u001b[1;33m)\u001b[0m\u001b[1;33m\u001b[0m\u001b[1;33m\u001b[0m\u001b[0m\n\u001b[0m\u001b[0;32m   1600\u001b[0m \u001b[1;33m\u001b[0m\u001b[0m\n\u001b[0;32m   1601\u001b[0m         \u001b[0mbound\u001b[0m \u001b[1;33m=\u001b[0m \u001b[0mnew_sig\u001b[0m\u001b[1;33m.\u001b[0m\u001b[0mbind\u001b[0m\u001b[1;33m(\u001b[0m\u001b[0max\u001b[0m\u001b[1;33m,\u001b[0m \u001b[1;33m*\u001b[0m\u001b[0margs\u001b[0m\u001b[1;33m,\u001b[0m \u001b[1;33m**\u001b[0m\u001b[0mkwargs\u001b[0m\u001b[1;33m)\u001b[0m\u001b[1;33m\u001b[0m\u001b[1;33m\u001b[0m\u001b[0m\n",
      "\u001b[1;32mC:\\ProgramData\\Anaconda3\\lib\\site-packages\\matplotlib\\axes\\_axes.py\u001b[0m in \u001b[0;36mscatter\u001b[1;34m(self, x, y, s, c, marker, cmap, norm, vmin, vmax, alpha, linewidths, verts, edgecolors, plotnonfinite, **kwargs)\u001b[0m\n\u001b[0;32m   4441\u001b[0m         \u001b[0my\u001b[0m \u001b[1;33m=\u001b[0m \u001b[0mnp\u001b[0m\u001b[1;33m.\u001b[0m\u001b[0mma\u001b[0m\u001b[1;33m.\u001b[0m\u001b[0mravel\u001b[0m\u001b[1;33m(\u001b[0m\u001b[0my\u001b[0m\u001b[1;33m)\u001b[0m\u001b[1;33m\u001b[0m\u001b[1;33m\u001b[0m\u001b[0m\n\u001b[0;32m   4442\u001b[0m         \u001b[1;32mif\u001b[0m \u001b[0mx\u001b[0m\u001b[1;33m.\u001b[0m\u001b[0msize\u001b[0m \u001b[1;33m!=\u001b[0m \u001b[0my\u001b[0m\u001b[1;33m.\u001b[0m\u001b[0msize\u001b[0m\u001b[1;33m:\u001b[0m\u001b[1;33m\u001b[0m\u001b[1;33m\u001b[0m\u001b[0m\n\u001b[1;32m-> 4443\u001b[1;33m             \u001b[1;32mraise\u001b[0m \u001b[0mValueError\u001b[0m\u001b[1;33m(\u001b[0m\u001b[1;34m\"x and y must be the same size\"\u001b[0m\u001b[1;33m)\u001b[0m\u001b[1;33m\u001b[0m\u001b[1;33m\u001b[0m\u001b[0m\n\u001b[0m\u001b[0;32m   4444\u001b[0m \u001b[1;33m\u001b[0m\u001b[0m\n\u001b[0;32m   4445\u001b[0m         \u001b[1;32mif\u001b[0m \u001b[0ms\u001b[0m \u001b[1;32mis\u001b[0m \u001b[1;32mNone\u001b[0m\u001b[1;33m:\u001b[0m\u001b[1;33m\u001b[0m\u001b[1;33m\u001b[0m\u001b[0m\n",
      "\u001b[1;31mValueError\u001b[0m: x and y must be the same size"
     ]
    },
    {
     "data": {
      "image/png": "[encoded data removed]",
      "text/plain": [
       "<Figure size 432x288 with 1 Axes>"
      ]
     },
     "metadata": {
      "needs_background": "light"
     },
     "output_type": "display_data"
    }
   ],
   "source": [
    "plt.xlabel('Head Size(cm^3)')\n",
    "plt.ylabel('Brain Weight(grams)')\n",
    "plt.scatter(x,y)"
   ]
  },
  {
   "cell_type": "code",
   "execution_count": null,
   "metadata": {},
   "outputs": [],
   "source": [
    "lm = LinearRegression()"
   ]
  },
  {
   "cell_type": "code",
   "execution_count": 310,
   "metadata": {},
   "outputs": [
    {
     "data": {
      "text/plain": [
       "LinearRegression(copy_X=True, fit_intercept=True, n_jobs=None, normalize=False)"
      ]
     },
     "execution_count": 310,
     "metadata": {},
     "output_type": "execute_result"
    }
   ],
   "source": [
    "lm.fit(x,y)"
   ]
  },
  {
   "cell_type": "code",
   "execution_count": null,
   "metadata": {},
   "outputs": [],
   "source": [
    "lm.score(x,y)"
   ]
  },
  {
   "cell_type": "code",
   "execution_count": null,
   "metadata": {},
   "outputs": [],
   "source": [
    "lm.coef_"
   ]
  },
  {
   "cell_type": "code",
   "execution_count": null,
   "metadata": {},
   "outputs": [],
   "source": [
    "lm.intercept_"
   ]
  },
  {
   "cell_type": "code",
   "execution_count": null,
   "metadata": {},
   "outputs": [],
   "source": [
    "hs=np.array([2850])"
   ]
  },
  {
   "cell_type": "code",
   "execution_count": null,
   "metadata": {},
   "outputs": [],
   "source": [
    "h=hs.reshape(-1,1)"
   ]
  },
  {
   "cell_type": "code",
   "execution_count": null,
   "metadata": {},
   "outputs": [],
   "source": [
    "lm.predict(h)"
   ]
  },
  {
   "cell_type": "code",
   "execution_count": null,
   "metadata": {},
   "outputs": [],
   "source": [
    "hs2=np.array([4512])"
   ]
  },
  {
   "cell_type": "code",
   "execution_count": null,
   "metadata": {},
   "outputs": [],
   "source": [
    "h2=hs2.reshape(-1,1)"
   ]
  },
  {
   "cell_type": "code",
   "execution_count": null,
   "metadata": {},
   "outputs": [],
   "source": [
    "lm.predict(h2)"
   ]
  },
  {
   "cell_type": "code",
   "execution_count": null,
   "metadata": {},
   "outputs": [],
   "source": []
  },
  {
   "cell_type": "code",
   "execution_count": null,
   "metadata": {},
   "outputs": [],
   "source": [
    "x.shape"
   ]
  },
  {
   "cell_type": "code",
   "execution_count": null,
   "metadata": {},
   "outputs": [],
   "source": [
    "y.shape"
   ]
  },
  {
   "cell_type": "code",
   "execution_count": null,
   "metadata": {},
   "outputs": [],
   "source": [
    "x_train,x_test,y_train,y_test=train_test_split(x,y,test_size=30,random_state=70)"
   ]
  },
  {
   "cell_type": "code",
   "execution_count": null,
   "metadata": {},
   "outputs": [],
   "source": [
    "x_train.shape"
   ]
  },
  {
   "cell_type": "code",
   "execution_count": null,
   "metadata": {},
   "outputs": [],
   "source": [
    "y_train.shape"
   ]
  },
  {
   "cell_type": "code",
   "execution_count": null,
   "metadata": {},
   "outputs": [],
   "source": [
    "lm.fit(x_train,y_train)"
   ]
  },
  {
   "cell_type": "code",
   "execution_count": null,
   "metadata": {},
   "outputs": [],
   "source": [
    "lm.coef_"
   ]
  },
  {
   "cell_type": "code",
   "execution_count": null,
   "metadata": {},
   "outputs": [],
   "source": [
    "lm.score(x_train,y_train)"
   ]
  },
  {
   "cell_type": "code",
   "execution_count": null,
   "metadata": {},
   "outputs": [],
   "source": [
    "lm.intercept_"
   ]
  },
  {
   "cell_type": "code",
   "execution_count": null,
   "metadata": {},
   "outputs": [],
   "source": [
    "pred=lm.predict(x_test)\n",
    "print('predicted Brain Weight:',pred)\n",
    "print('actual Brain weight',y_test)"
   ]
  },
  {
   "cell_type": "code",
   "execution_count": null,
   "metadata": {},
   "outputs": [],
   "source": [
    "t=np.array([3452])"
   ]
  },
  {
   "cell_type": "code",
   "execution_count": null,
   "metadata": {},
   "outputs": [],
   "source": [
    "t.shape"
   ]
  },
  {
   "cell_type": "code",
   "execution_count": null,
   "metadata": {},
   "outputs": [],
   "source": [
    "t=t.reshape(-1,1)"
   ]
  },
  {
   "cell_type": "code",
   "execution_count": null,
   "metadata": {},
   "outputs": [],
   "source": [
    "lm.predict(t)"
   ]
  },
  {
   "cell_type": "code",
   "execution_count": null,
   "metadata": {},
   "outputs": [],
   "source": [
    "hd=pd.DataFrame(pred)\n",
    "hd.to_csv('head_size_submission.csv')"
   ]
  },
  {
   "cell_type": "code",
   "execution_count": null,
   "metadata": {},
   "outputs": [],
   "source": []
  }
 ],
 "metadata": {
  "kernelspec": {
   "display_name": "Python 3",
   "language": "python",
   "name": "python3"
  },
  "language_info": {
   "codemirror_mode": {
    "name": "ipython",
    "version": 3
   },
   "file_extension": ".py",
   "mimetype": "text/x-python",
   "name": "python",
   "nbconvert_exporter": "python",
   "pygments_lexer": "ipython3",
   "version": "3.7.6"
  }
 },
 "nbformat": 4,
 "nbformat_minor": 4
}
